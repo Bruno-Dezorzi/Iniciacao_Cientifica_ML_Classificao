{
 "cells": [
  {
   "cell_type": "code",
   "execution_count": 3,
   "metadata": {},
   "outputs": [
    {
     "name": "stdout",
     "output_type": "stream",
     "text": [
      "Acurácia com C pequeno: 0.89\n",
      "Acurácia com C grande: 0.89\n"
     ]
    }
   ],
   "source": [
    "from sklearn.svm import SVC\n",
    "from sklearn.datasets import make_classification\n",
    "\n",
    "\n",
    "# Criando um dataset de exemplo com 2 características informativas\n",
    "X, y = make_classification(n_samples=10000, n_features=4, n_informative=2, n_classes=2, random_state=42)\n",
    "\n",
    "# Treinando modelos com C pequeno e grande\n",
    "svm_low_C = SVC(C=0.1, kernel='linear').fit(X, y)\n",
    "svm_high_C = SVC(C=100, kernel='linear').fit(X, y)\n",
    "\n",
    "print(f\"Acurácia com C pequeno: {svm_low_C.score(X, y):.2f}\")\n",
    "print(f\"Acurácia com C grande: {svm_high_C.score(X, y):.2f}\")\n"
   ]
  }
 ],
 "metadata": {
  "kernelspec": {
   "display_name": "Python 3",
   "language": "python",
   "name": "python3"
  },
  "language_info": {
   "codemirror_mode": {
    "name": "ipython",
    "version": 3
   },
   "file_extension": ".py",
   "mimetype": "text/x-python",
   "name": "python",
   "nbconvert_exporter": "python",
   "pygments_lexer": "ipython3",
   "version": "3.12.9"
  }
 },
 "nbformat": 4,
 "nbformat_minor": 2
}
