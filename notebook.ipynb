{
 "cells": [
  {
   "cell_type": "markdown",
   "metadata": {
    "id": "Q5z3SaoUFK1b"
   },
   "source": [
    "# Importação"
   ]
  },
  {
   "cell_type": "code",
   "execution_count": 1,
   "metadata": {
    "executionInfo": {
     "elapsed": 1872,
     "status": "ok",
     "timestamp": 1743083703929,
     "user": {
      "displayName": "Bruno Dezorzi",
      "userId": "10811174155424200293"
     },
     "user_tz": 180
    },
    "id": "tV9GDTqsEsS0"
   },
   "outputs": [],
   "source": [
    "import pandas as pd\n",
    "from sklearn.datasets import load_iris\n",
    "from sklearn.metrics import accuracy_score\n",
    "import matplotlib.pyplot as plt\n",
    "import seaborn as sns\n",
    "import numpy as np"
   ]
  },
  {
   "cell_type": "markdown",
   "metadata": {
    "id": "ls8ibNlbFOKf"
   },
   "source": [
    "# Carregar dados"
   ]
  },
  {
   "cell_type": "code",
   "execution_count": 2,
   "metadata": {
    "executionInfo": {
     "elapsed": 9,
     "status": "ok",
     "timestamp": 1743083703936,
     "user": {
      "displayName": "Bruno Dezorzi",
      "userId": "10811174155424200293"
     },
     "user_tz": 180
    },
    "id": "YwPNjoJUE9j2"
   },
   "outputs": [
    {
     "data": {
      "text/html": [
       "<div>\n",
       "<style scoped>\n",
       "    .dataframe tbody tr th:only-of-type {\n",
       "        vertical-align: middle;\n",
       "    }\n",
       "\n",
       "    .dataframe tbody tr th {\n",
       "        vertical-align: top;\n",
       "    }\n",
       "\n",
       "    .dataframe thead th {\n",
       "        text-align: right;\n",
       "    }\n",
       "</style>\n",
       "<table border=\"1\" class=\"dataframe\">\n",
       "  <thead>\n",
       "    <tr style=\"text-align: right;\">\n",
       "      <th></th>\n",
       "      <th>sepal length (cm)</th>\n",
       "      <th>sepal width (cm)</th>\n",
       "      <th>petal length (cm)</th>\n",
       "      <th>petal width (cm)</th>\n",
       "      <th>target</th>\n",
       "    </tr>\n",
       "  </thead>\n",
       "  <tbody>\n",
       "    <tr>\n",
       "      <th>0</th>\n",
       "      <td>5.1</td>\n",
       "      <td>3.5</td>\n",
       "      <td>1.4</td>\n",
       "      <td>0.2</td>\n",
       "      <td>0</td>\n",
       "    </tr>\n",
       "    <tr>\n",
       "      <th>1</th>\n",
       "      <td>4.9</td>\n",
       "      <td>3.0</td>\n",
       "      <td>1.4</td>\n",
       "      <td>0.2</td>\n",
       "      <td>0</td>\n",
       "    </tr>\n",
       "    <tr>\n",
       "      <th>2</th>\n",
       "      <td>4.7</td>\n",
       "      <td>3.2</td>\n",
       "      <td>1.3</td>\n",
       "      <td>0.2</td>\n",
       "      <td>0</td>\n",
       "    </tr>\n",
       "    <tr>\n",
       "      <th>3</th>\n",
       "      <td>4.6</td>\n",
       "      <td>3.1</td>\n",
       "      <td>1.5</td>\n",
       "      <td>0.2</td>\n",
       "      <td>0</td>\n",
       "    </tr>\n",
       "    <tr>\n",
       "      <th>4</th>\n",
       "      <td>5.0</td>\n",
       "      <td>3.6</td>\n",
       "      <td>1.4</td>\n",
       "      <td>0.2</td>\n",
       "      <td>0</td>\n",
       "    </tr>\n",
       "  </tbody>\n",
       "</table>\n",
       "</div>"
      ],
      "text/plain": [
       "   sepal length (cm)  sepal width (cm)  petal length (cm)  petal width (cm)  \\\n",
       "0                5.1               3.5                1.4               0.2   \n",
       "1                4.9               3.0                1.4               0.2   \n",
       "2                4.7               3.2                1.3               0.2   \n",
       "3                4.6               3.1                1.5               0.2   \n",
       "4                5.0               3.6                1.4               0.2   \n",
       "\n",
       "   target  \n",
       "0       0  \n",
       "1       0  \n",
       "2       0  \n",
       "3       0  \n",
       "4       0  "
      ]
     },
     "execution_count": 2,
     "metadata": {},
     "output_type": "execute_result"
    }
   ],
   "source": [
    "df = pd.concat([load_iris(return_X_y= True, as_frame= True)[0],load_iris(return_X_y= True, as_frame= True)[1]], axis= 1)\n",
    "df.head()"
   ]
  },
  {
   "cell_type": "markdown",
   "metadata": {
    "id": "Bj0AuX6cH5TE"
   },
   "source": [
    "# Análise Exploratória"
   ]
  },
  {
   "cell_type": "code",
   "execution_count": 3,
   "metadata": {
    "colab": {
     "base_uri": "https://localhost:8080/",
     "height": 241
    },
    "executionInfo": {
     "elapsed": 14,
     "status": "ok",
     "timestamp": 1743083703942,
     "user": {
      "displayName": "Bruno Dezorzi",
      "userId": "10811174155424200293"
     },
     "user_tz": 180
    },
    "id": "Jb-wFpgNwjNn",
    "outputId": "7ce31a68-6c24-405b-c828-c48facfb6f18"
   },
   "outputs": [
    {
     "data": {
      "text/plain": [
       "sepal length (cm)    float64\n",
       "sepal width (cm)     float64\n",
       "petal length (cm)    float64\n",
       "petal width (cm)     float64\n",
       "target                 int64\n",
       "dtype: object"
      ]
     },
     "execution_count": 3,
     "metadata": {},
     "output_type": "execute_result"
    }
   ],
   "source": [
    "df.dtypes"
   ]
  },
  {
   "cell_type": "code",
   "execution_count": 4,
   "metadata": {
    "colab": {
     "base_uri": "https://localhost:8080/",
     "height": 300
    },
    "executionInfo": {
     "elapsed": 32,
     "status": "ok",
     "timestamp": 1743083703975,
     "user": {
      "displayName": "Bruno Dezorzi",
      "userId": "10811174155424200293"
     },
     "user_tz": 180
    },
    "id": "cqOmI5_l33A_",
    "outputId": "27a9e6f5-b9d0-4663-9715-ba834e5a07c1"
   },
   "outputs": [
    {
     "data": {
      "text/html": [
       "<div>\n",
       "<style scoped>\n",
       "    .dataframe tbody tr th:only-of-type {\n",
       "        vertical-align: middle;\n",
       "    }\n",
       "\n",
       "    .dataframe tbody tr th {\n",
       "        vertical-align: top;\n",
       "    }\n",
       "\n",
       "    .dataframe thead th {\n",
       "        text-align: right;\n",
       "    }\n",
       "</style>\n",
       "<table border=\"1\" class=\"dataframe\">\n",
       "  <thead>\n",
       "    <tr style=\"text-align: right;\">\n",
       "      <th></th>\n",
       "      <th>sepal length (cm)</th>\n",
       "      <th>sepal width (cm)</th>\n",
       "      <th>petal length (cm)</th>\n",
       "      <th>petal width (cm)</th>\n",
       "      <th>target</th>\n",
       "    </tr>\n",
       "  </thead>\n",
       "  <tbody>\n",
       "    <tr>\n",
       "      <th>count</th>\n",
       "      <td>150.000000</td>\n",
       "      <td>150.000000</td>\n",
       "      <td>150.000000</td>\n",
       "      <td>150.000000</td>\n",
       "      <td>150.000000</td>\n",
       "    </tr>\n",
       "    <tr>\n",
       "      <th>mean</th>\n",
       "      <td>5.843333</td>\n",
       "      <td>3.057333</td>\n",
       "      <td>3.758000</td>\n",
       "      <td>1.199333</td>\n",
       "      <td>1.000000</td>\n",
       "    </tr>\n",
       "    <tr>\n",
       "      <th>std</th>\n",
       "      <td>0.828066</td>\n",
       "      <td>0.435866</td>\n",
       "      <td>1.765298</td>\n",
       "      <td>0.762238</td>\n",
       "      <td>0.819232</td>\n",
       "    </tr>\n",
       "    <tr>\n",
       "      <th>min</th>\n",
       "      <td>4.300000</td>\n",
       "      <td>2.000000</td>\n",
       "      <td>1.000000</td>\n",
       "      <td>0.100000</td>\n",
       "      <td>0.000000</td>\n",
       "    </tr>\n",
       "    <tr>\n",
       "      <th>25%</th>\n",
       "      <td>5.100000</td>\n",
       "      <td>2.800000</td>\n",
       "      <td>1.600000</td>\n",
       "      <td>0.300000</td>\n",
       "      <td>0.000000</td>\n",
       "    </tr>\n",
       "    <tr>\n",
       "      <th>50%</th>\n",
       "      <td>5.800000</td>\n",
       "      <td>3.000000</td>\n",
       "      <td>4.350000</td>\n",
       "      <td>1.300000</td>\n",
       "      <td>1.000000</td>\n",
       "    </tr>\n",
       "    <tr>\n",
       "      <th>75%</th>\n",
       "      <td>6.400000</td>\n",
       "      <td>3.300000</td>\n",
       "      <td>5.100000</td>\n",
       "      <td>1.800000</td>\n",
       "      <td>2.000000</td>\n",
       "    </tr>\n",
       "    <tr>\n",
       "      <th>max</th>\n",
       "      <td>7.900000</td>\n",
       "      <td>4.400000</td>\n",
       "      <td>6.900000</td>\n",
       "      <td>2.500000</td>\n",
       "      <td>2.000000</td>\n",
       "    </tr>\n",
       "  </tbody>\n",
       "</table>\n",
       "</div>"
      ],
      "text/plain": [
       "       sepal length (cm)  sepal width (cm)  petal length (cm)  \\\n",
       "count         150.000000        150.000000         150.000000   \n",
       "mean            5.843333          3.057333           3.758000   \n",
       "std             0.828066          0.435866           1.765298   \n",
       "min             4.300000          2.000000           1.000000   \n",
       "25%             5.100000          2.800000           1.600000   \n",
       "50%             5.800000          3.000000           4.350000   \n",
       "75%             6.400000          3.300000           5.100000   \n",
       "max             7.900000          4.400000           6.900000   \n",
       "\n",
       "       petal width (cm)      target  \n",
       "count        150.000000  150.000000  \n",
       "mean           1.199333    1.000000  \n",
       "std            0.762238    0.819232  \n",
       "min            0.100000    0.000000  \n",
       "25%            0.300000    0.000000  \n",
       "50%            1.300000    1.000000  \n",
       "75%            1.800000    2.000000  \n",
       "max            2.500000    2.000000  "
      ]
     },
     "execution_count": 4,
     "metadata": {},
     "output_type": "execute_result"
    }
   ],
   "source": [
    "df.describe()"
   ]
  },
  {
   "cell_type": "code",
   "execution_count": 5,
   "metadata": {
    "colab": {
     "base_uri": "https://localhost:8080/",
     "height": 206
    },
    "executionInfo": {
     "elapsed": 25,
     "status": "ok",
     "timestamp": 1743083704010,
     "user": {
      "displayName": "Bruno Dezorzi",
      "userId": "10811174155424200293"
     },
     "user_tz": 180
    },
    "id": "voZYF148IfMc",
    "outputId": "33ab5441-ee13-4c20-ea71-0ea0fb0deae2"
   },
   "outputs": [
    {
     "data": {
      "text/html": [
       "<div>\n",
       "<style scoped>\n",
       "    .dataframe tbody tr th:only-of-type {\n",
       "        vertical-align: middle;\n",
       "    }\n",
       "\n",
       "    .dataframe tbody tr th {\n",
       "        vertical-align: top;\n",
       "    }\n",
       "\n",
       "    .dataframe thead th {\n",
       "        text-align: right;\n",
       "    }\n",
       "</style>\n",
       "<table border=\"1\" class=\"dataframe\">\n",
       "  <thead>\n",
       "    <tr style=\"text-align: right;\">\n",
       "      <th></th>\n",
       "      <th>sepal length (cm)</th>\n",
       "      <th>sepal width (cm)</th>\n",
       "      <th>petal length (cm)</th>\n",
       "      <th>petal width (cm)</th>\n",
       "      <th>target</th>\n",
       "      <th>species</th>\n",
       "    </tr>\n",
       "  </thead>\n",
       "  <tbody>\n",
       "    <tr>\n",
       "      <th>0</th>\n",
       "      <td>5.1</td>\n",
       "      <td>3.5</td>\n",
       "      <td>1.4</td>\n",
       "      <td>0.2</td>\n",
       "      <td>0</td>\n",
       "      <td>setosa</td>\n",
       "    </tr>\n",
       "    <tr>\n",
       "      <th>1</th>\n",
       "      <td>4.9</td>\n",
       "      <td>3.0</td>\n",
       "      <td>1.4</td>\n",
       "      <td>0.2</td>\n",
       "      <td>0</td>\n",
       "      <td>setosa</td>\n",
       "    </tr>\n",
       "    <tr>\n",
       "      <th>2</th>\n",
       "      <td>4.7</td>\n",
       "      <td>3.2</td>\n",
       "      <td>1.3</td>\n",
       "      <td>0.2</td>\n",
       "      <td>0</td>\n",
       "      <td>setosa</td>\n",
       "    </tr>\n",
       "    <tr>\n",
       "      <th>3</th>\n",
       "      <td>4.6</td>\n",
       "      <td>3.1</td>\n",
       "      <td>1.5</td>\n",
       "      <td>0.2</td>\n",
       "      <td>0</td>\n",
       "      <td>setosa</td>\n",
       "    </tr>\n",
       "    <tr>\n",
       "      <th>4</th>\n",
       "      <td>5.0</td>\n",
       "      <td>3.6</td>\n",
       "      <td>1.4</td>\n",
       "      <td>0.2</td>\n",
       "      <td>0</td>\n",
       "      <td>setosa</td>\n",
       "    </tr>\n",
       "  </tbody>\n",
       "</table>\n",
       "</div>"
      ],
      "text/plain": [
       "   sepal length (cm)  sepal width (cm)  petal length (cm)  petal width (cm)  \\\n",
       "0                5.1               3.5                1.4               0.2   \n",
       "1                4.9               3.0                1.4               0.2   \n",
       "2                4.7               3.2                1.3               0.2   \n",
       "3                4.6               3.1                1.5               0.2   \n",
       "4                5.0               3.6                1.4               0.2   \n",
       "\n",
       "   target species  \n",
       "0       0  setosa  \n",
       "1       0  setosa  \n",
       "2       0  setosa  \n",
       "3       0  setosa  \n",
       "4       0  setosa  "
      ]
     },
     "execution_count": 5,
     "metadata": {},
     "output_type": "execute_result"
    }
   ],
   "source": [
    "species_mapping = {0: 'setosa', 1: 'versicolor', 2: 'virginica'}\n",
    "\n",
    "df['species'] = df['target'].map(species_mapping)\n",
    "df.head()"
   ]
  },
  {
   "cell_type": "code",
   "execution_count": 6,
   "metadata": {
    "colab": {
     "base_uri": "https://localhost:8080/",
     "height": 209
    },
    "executionInfo": {
     "elapsed": 9,
     "status": "ok",
     "timestamp": 1743083704030,
     "user": {
      "displayName": "Bruno Dezorzi",
      "userId": "10811174155424200293"
     },
     "user_tz": 180
    },
    "id": "FPysHthdFTKH",
    "outputId": "422de132-1800-40b9-bc66-834e20f8491e"
   },
   "outputs": [
    {
     "data": {
      "text/plain": [
       "species\n",
       "setosa        50\n",
       "versicolor    50\n",
       "virginica     50\n",
       "Name: count, dtype: int64"
      ]
     },
     "execution_count": 6,
     "metadata": {},
     "output_type": "execute_result"
    }
   ],
   "source": [
    "df['species'].value_counts()"
   ]
  },
  {
   "cell_type": "code",
   "execution_count": 7,
   "metadata": {
    "colab": {
     "base_uri": "https://localhost:8080/",
     "height": 206
    },
    "executionInfo": {
     "elapsed": 21,
     "status": "ok",
     "timestamp": 1743083704053,
     "user": {
      "displayName": "Bruno Dezorzi",
      "userId": "10811174155424200293"
     },
     "user_tz": 180
    },
    "id": "phXXHUZIyOQ6",
    "outputId": "0de2723f-60d1-4850-e788-2f7a74a910b0"
   },
   "outputs": [
    {
     "data": {
      "text/html": [
       "<div>\n",
       "<style scoped>\n",
       "    .dataframe tbody tr th:only-of-type {\n",
       "        vertical-align: middle;\n",
       "    }\n",
       "\n",
       "    .dataframe tbody tr th {\n",
       "        vertical-align: top;\n",
       "    }\n",
       "\n",
       "    .dataframe thead th {\n",
       "        text-align: right;\n",
       "    }\n",
       "</style>\n",
       "<table border=\"1\" class=\"dataframe\">\n",
       "  <thead>\n",
       "    <tr style=\"text-align: right;\">\n",
       "      <th></th>\n",
       "      <th>sepal length (cm)</th>\n",
       "      <th>sepal width (cm)</th>\n",
       "      <th>petal length (cm)</th>\n",
       "      <th>petal width (cm)</th>\n",
       "      <th>species</th>\n",
       "    </tr>\n",
       "  </thead>\n",
       "  <tbody>\n",
       "    <tr>\n",
       "      <th>0</th>\n",
       "      <td>5.1</td>\n",
       "      <td>3.5</td>\n",
       "      <td>1.4</td>\n",
       "      <td>0.2</td>\n",
       "      <td>setosa</td>\n",
       "    </tr>\n",
       "    <tr>\n",
       "      <th>1</th>\n",
       "      <td>4.9</td>\n",
       "      <td>3.0</td>\n",
       "      <td>1.4</td>\n",
       "      <td>0.2</td>\n",
       "      <td>setosa</td>\n",
       "    </tr>\n",
       "    <tr>\n",
       "      <th>2</th>\n",
       "      <td>4.7</td>\n",
       "      <td>3.2</td>\n",
       "      <td>1.3</td>\n",
       "      <td>0.2</td>\n",
       "      <td>setosa</td>\n",
       "    </tr>\n",
       "    <tr>\n",
       "      <th>3</th>\n",
       "      <td>4.6</td>\n",
       "      <td>3.1</td>\n",
       "      <td>1.5</td>\n",
       "      <td>0.2</td>\n",
       "      <td>setosa</td>\n",
       "    </tr>\n",
       "    <tr>\n",
       "      <th>4</th>\n",
       "      <td>5.0</td>\n",
       "      <td>3.6</td>\n",
       "      <td>1.4</td>\n",
       "      <td>0.2</td>\n",
       "      <td>setosa</td>\n",
       "    </tr>\n",
       "  </tbody>\n",
       "</table>\n",
       "</div>"
      ],
      "text/plain": [
       "   sepal length (cm)  sepal width (cm)  petal length (cm)  petal width (cm)  \\\n",
       "0                5.1               3.5                1.4               0.2   \n",
       "1                4.9               3.0                1.4               0.2   \n",
       "2                4.7               3.2                1.3               0.2   \n",
       "3                4.6               3.1                1.5               0.2   \n",
       "4                5.0               3.6                1.4               0.2   \n",
       "\n",
       "  species  \n",
       "0  setosa  \n",
       "1  setosa  \n",
       "2  setosa  \n",
       "3  setosa  \n",
       "4  setosa  "
      ]
     },
     "execution_count": 7,
     "metadata": {},
     "output_type": "execute_result"
    }
   ],
   "source": [
    "df = df.drop('target', axis = 1)\n",
    "df.head()"
   ]
  },
  {
   "cell_type": "code",
   "execution_count": 8,
   "metadata": {
    "colab": {
     "base_uri": "https://localhost:8080/",
     "height": 606
    },
    "executionInfo": {
     "elapsed": 288,
     "status": "ok",
     "timestamp": 1743083704342,
     "user": {
      "displayName": "Bruno Dezorzi",
      "userId": "10811174155424200293"
     },
     "user_tz": 180
    },
    "id": "Wx0D93zgKsMP",
    "outputId": "00d59544-7037-4828-c690-f7b9b4a72856"
   },
   "outputs": [
    {
     "data": {
      "image/png": "[encoded data removed]",
      "text/plain": [
       "<Figure size 1000x600 with 2 Axes>"
      ]
     },
     "metadata": {},
     "output_type": "display_data"
    }
   ],
   "source": [
    "corr = df.iloc[:, 0:3].corr()\n",
    "\n",
    "\n",
    "plt.figure(figsize=(10, 6))\n",
    "sns.heatmap(corr, annot=True, cmap='coolwarm', fmt=\".2f\", cbar=True)\n",
    "\n",
    "\n",
    "plt.tight_layout()\n",
    "plt.show()\n"
   ]
  },
  {
   "cell_type": "code",
   "execution_count": 9,
   "metadata": {
    "colab": {
     "base_uri": "https://localhost:8080/",
     "height": 522
    },
    "executionInfo": {
     "elapsed": 225,
     "status": "ok",
     "timestamp": 1743083704568,
     "user": {
      "displayName": "Bruno Dezorzi",
      "userId": "10811174155424200293"
     },
     "user_tz": 180
    },
    "id": "XsXMVEmELcYl",
    "outputId": "52dd2a35-e739-4e09-c73e-2374635016f9"
   },
   "outputs": [
    {
     "data": {
      "image/png": "[encoded data removed]",
      "text/plain": [
       "<Figure size 1000x600 with 1 Axes>"
      ]
     },
     "metadata": {},
     "output_type": "display_data"
    }
   ],
   "source": [
    "plt.figure(figsize = (10,6))\n",
    "\n",
    "sns.boxplot(data=df.iloc[:, 0:3])\n",
    "plt.show()"
   ]
  },
  {
   "cell_type": "markdown",
   "metadata": {
    "id": "JaFa7T9u5FNu"
   },
   "source": [
    "# Pré Processamento"
   ]
  },
  {
   "cell_type": "code",
   "execution_count": 10,
   "metadata": {
    "colab": {
     "base_uri": "https://localhost:8080/"
    },
    "executionInfo": {
     "elapsed": 6,
     "status": "ok",
     "timestamp": 1743083704572,
     "user": {
      "displayName": "Bruno Dezorzi",
      "userId": "10811174155424200293"
     },
     "user_tz": 180
    },
    "id": "rc1ypmaC0TZB",
    "outputId": "93c3de80-d599-41ca-a2df-116ed126854a"
   },
   "outputs": [
    {
     "name": "stdout",
     "output_type": "stream",
     "text": [
      "Sobre a coluna sepal width (cm): O Limite inferior é 2.05 e o superior é 4.05 \n",
      "\n",
      "    sepal length (cm)  sepal width (cm)  petal length (cm)  petal width (cm)  \\\n",
      "15                5.7               4.4                1.5               0.4   \n",
      "32                5.2               4.1                1.5               0.1   \n",
      "33                5.5               4.2                1.4               0.2   \n",
      "60                5.0               2.0                3.5               1.0   \n",
      "\n",
      "       species  \n",
      "15      setosa  \n",
      "32      setosa  \n",
      "33      setosa  \n",
      "60  versicolor  \n"
     ]
    }
   ],
   "source": [
    "coluna = 'sepal width (cm)'\n",
    "\n",
    "\n",
    "Q1 = df[coluna].quantile(0.25)\n",
    "Q3 = df[coluna].quantile(0.75)\n",
    "IQR = Q3 - Q1\n",
    "\n",
    "\n",
    "limite_inferior = Q1 - 1.5 * IQR\n",
    "limite_superior = Q3 + 1.5 * IQR\n",
    "\n",
    "\n",
    "outliers = df[(df[coluna] < limite_inferior) | (df[coluna] > limite_superior)]\n",
    "\n",
    "print(f\"Sobre a coluna sepal width (cm): O Limite inferior é {limite_inferior} e o superior é {limite_superior} \\n\")\n",
    "print(outliers)"
   ]
  },
  {
   "cell_type": "code",
   "execution_count": 11,
   "metadata": {
    "colab": {
     "base_uri": "https://localhost:8080/"
    },
    "executionInfo": {
     "elapsed": 16,
     "status": "ok",
     "timestamp": 1743083704589,
     "user": {
      "displayName": "Bruno Dezorzi",
      "userId": "10811174155424200293"
     },
     "user_tz": 180
    },
    "id": "u1cyiIE61KOq",
    "outputId": "44f30edb-7d62-4e22-bfda-8cb4574aa722"
   },
   "outputs": [
    {
     "data": {
      "text/plain": [
       "np.float64(3.675)"
      ]
     },
     "execution_count": 11,
     "metadata": {},
     "output_type": "execute_result"
    }
   ],
   "source": [
    "media_sepal_width_no_outliers = outliers[coluna].mean()\n",
    "media_sepal_width_no_outliers"
   ]
  },
  {
   "cell_type": "code",
   "execution_count": 12,
   "metadata": {
    "executionInfo": {
     "elapsed": 15,
     "status": "ok",
     "timestamp": 1743083704605,
     "user": {
      "displayName": "Bruno Dezorzi",
      "userId": "10811174155424200293"
     },
     "user_tz": 180
    },
    "id": "SpWigRed2ESw"
   },
   "outputs": [],
   "source": [
    "df['sepal width (cm)'] = df['sepal width (cm)'].apply(\n",
    "    lambda x: media_sepal_width_no_outliers if (x < limite_inferior or x > limite_superior) else x\n",
    ")"
   ]
  },
  {
   "cell_type": "code",
   "execution_count": 13,
   "metadata": {
    "colab": {
     "base_uri": "https://localhost:8080/",
     "height": 522
    },
    "executionInfo": {
     "elapsed": 266,
     "status": "ok",
     "timestamp": 1743083704874,
     "user": {
      "displayName": "Bruno Dezorzi",
      "userId": "10811174155424200293"
     },
     "user_tz": 180
    },
    "id": "1VoMinpI25k8",
    "outputId": "d2299cc6-b1e4-4989-a4ba-b0b645d6bc5f"
   },
   "outputs": [
    {
     "data": {
      "image/png": "[encoded data removed]",
      "text/plain": [
       "<Figure size 1000x600 with 1 Axes>"
      ]
     },
     "metadata": {},
     "output_type": "display_data"
    }
   ],
   "source": [
    "plt.figure(figsize = (10,6))\n",
    "\n",
    "sns.boxplot(data=df.iloc[:, 0:3])\n",
    "plt.show()"
   ]
  },
  {
   "cell_type": "code",
   "execution_count": 14,
   "metadata": {
    "colab": {
     "base_uri": "https://localhost:8080/",
     "height": 300
    },
    "executionInfo": {
     "elapsed": 104,
     "status": "ok",
     "timestamp": 1743084209619,
     "user": {
      "displayName": "Bruno Dezorzi",
      "userId": "10811174155424200293"
     },
     "user_tz": 180
    },
    "id": "0Z6EYvQV6i0k",
    "outputId": "2e86d658-2f4f-4040-f6fb-89c2310e2203"
   },
   "outputs": [
    {
     "data": {
      "text/html": [
       "<div>\n",
       "<style scoped>\n",
       "    .dataframe tbody tr th:only-of-type {\n",
       "        vertical-align: middle;\n",
       "    }\n",
       "\n",
       "    .dataframe tbody tr th {\n",
       "        vertical-align: top;\n",
       "    }\n",
       "\n",
       "    .dataframe thead th {\n",
       "        text-align: right;\n",
       "    }\n",
       "</style>\n",
       "<table border=\"1\" class=\"dataframe\">\n",
       "  <thead>\n",
       "    <tr style=\"text-align: right;\">\n",
       "      <th></th>\n",
       "      <th>sepal length (cm)</th>\n",
       "      <th>sepal width (cm)</th>\n",
       "      <th>petal length (cm)</th>\n",
       "      <th>petal width (cm)</th>\n",
       "    </tr>\n",
       "  </thead>\n",
       "  <tbody>\n",
       "    <tr>\n",
       "      <th>count</th>\n",
       "      <td>150.000000</td>\n",
       "      <td>150.000000</td>\n",
       "      <td>150.000000</td>\n",
       "      <td>150.000000</td>\n",
       "    </tr>\n",
       "    <tr>\n",
       "      <th>mean</th>\n",
       "      <td>5.843333</td>\n",
       "      <td>3.057333</td>\n",
       "      <td>3.758000</td>\n",
       "      <td>1.199333</td>\n",
       "    </tr>\n",
       "    <tr>\n",
       "      <th>std</th>\n",
       "      <td>0.828066</td>\n",
       "      <td>0.405660</td>\n",
       "      <td>1.765298</td>\n",
       "      <td>0.762238</td>\n",
       "    </tr>\n",
       "    <tr>\n",
       "      <th>min</th>\n",
       "      <td>4.300000</td>\n",
       "      <td>2.200000</td>\n",
       "      <td>1.000000</td>\n",
       "      <td>0.100000</td>\n",
       "    </tr>\n",
       "    <tr>\n",
       "      <th>25%</th>\n",
       "      <td>5.100000</td>\n",
       "      <td>2.800000</td>\n",
       "      <td>1.600000</td>\n",
       "      <td>0.300000</td>\n",
       "    </tr>\n",
       "    <tr>\n",
       "      <th>50%</th>\n",
       "      <td>5.800000</td>\n",
       "      <td>3.000000</td>\n",
       "      <td>4.350000</td>\n",
       "      <td>1.300000</td>\n",
       "    </tr>\n",
       "    <tr>\n",
       "      <th>75%</th>\n",
       "      <td>6.400000</td>\n",
       "      <td>3.375000</td>\n",
       "      <td>5.100000</td>\n",
       "      <td>1.800000</td>\n",
       "    </tr>\n",
       "    <tr>\n",
       "      <th>max</th>\n",
       "      <td>7.900000</td>\n",
       "      <td>4.000000</td>\n",
       "      <td>6.900000</td>\n",
       "      <td>2.500000</td>\n",
       "    </tr>\n",
       "  </tbody>\n",
       "</table>\n",
       "</div>"
      ],
      "text/plain": [
       "       sepal length (cm)  sepal width (cm)  petal length (cm)  \\\n",
       "count         150.000000        150.000000         150.000000   \n",
       "mean            5.843333          3.057333           3.758000   \n",
       "std             0.828066          0.405660           1.765298   \n",
       "min             4.300000          2.200000           1.000000   \n",
       "25%             5.100000          2.800000           1.600000   \n",
       "50%             5.800000          3.000000           4.350000   \n",
       "75%             6.400000          3.375000           5.100000   \n",
       "max             7.900000          4.000000           6.900000   \n",
       "\n",
       "       petal width (cm)  \n",
       "count        150.000000  \n",
       "mean           1.199333  \n",
       "std            0.762238  \n",
       "min            0.100000  \n",
       "25%            0.300000  \n",
       "50%            1.300000  \n",
       "75%            1.800000  \n",
       "max            2.500000  "
      ]
     },
     "execution_count": 14,
     "metadata": {},
     "output_type": "execute_result"
    }
   ],
   "source": [
    "df.describe()"
   ]
  },
  {
   "cell_type": "code",
   "execution_count": 15,
   "metadata": {},
   "outputs": [],
   "source": [
    "X = df.drop('species', axis=1)\n",
    "y = df['species']"
   ]
  },
  {
   "cell_type": "code",
   "execution_count": 16,
   "metadata": {},
   "outputs": [
    {
     "data": {
      "image/png": "[encoded data removed]",
      "text/plain": [
       "<Figure size 1000x700 with 4 Axes>"
      ]
     },
     "metadata": {},
     "output_type": "display_data"
    }
   ],
   "source": [
    "plt.figure(figsize= (10,7))\n",
    "plt.subplot(2,2,1)\n",
    "sns.histplot(data= df, x= 'sepal length (cm)')\n",
    "plt.subplot(2,2,2)\n",
    "sns.histplot(data= df, x= 'sepal width (cm)')\n",
    "plt.subplot(2,2,3)\n",
    "sns.histplot(data= df, x= 'petal length (cm)')\n",
    "plt.subplot(2,2,4)\n",
    "sns.histplot(data= df, x= 'petal width (cm)')\n",
    "\n",
    "plt.show()"
   ]
  },
  {
   "cell_type": "markdown",
   "metadata": {},
   "source": [
    "# Feature Engineering"
   ]
  },
  {
   "cell_type": "code",
   "execution_count": 33,
   "metadata": {},
   "outputs": [],
   "source": [
    "df[\"petal_area\"] = df[\"petal length (cm)\"] * df[\"petal width (cm)\"]\n",
    "df[\"sepal_area\"] = df[\"sepal length (cm)\"] * df[\"sepal width (cm)\"]"
   ]
  },
  {
   "cell_type": "code",
   "execution_count": 17,
   "metadata": {},
   "outputs": [
    {
     "name": "stdout",
     "output_type": "stream",
     "text": [
      "[[-9.00681170e-01  1.09488180e+00 -1.34022653e+00 -1.31544430e+00]\n",
      " [-1.14301691e+00 -1.41806980e-01 -1.34022653e+00 -1.31544430e+00]\n",
      " [-1.38535265e+00  3.52868531e-01 -1.39706395e+00 -1.31544430e+00]\n",
      " [-1.50652052e+00  1.05530776e-01 -1.28338910e+00 -1.31544430e+00]\n",
      " [-1.02184904e+00  1.34221955e+00 -1.34022653e+00 -1.31544430e+00]\n",
      " [-5.37177559e-01  2.08423282e+00 -1.16971425e+00 -1.05217993e+00]\n",
      " [-1.50652052e+00  8.47544041e-01 -1.34022653e+00 -1.18381211e+00]\n",
      " [-1.02184904e+00  8.47544041e-01 -1.28338910e+00 -1.31544430e+00]\n",
      " [-1.74885626e+00 -3.89144735e-01 -1.34022653e+00 -1.31544430e+00]\n",
      " [-1.14301691e+00  1.05530776e-01 -1.28338910e+00 -1.44707648e+00]\n",
      " [-5.37177559e-01  1.58955731e+00 -1.28338910e+00 -1.31544430e+00]\n",
      " [-1.26418478e+00  8.47544041e-01 -1.22655167e+00 -1.31544430e+00]\n",
      " [-1.26418478e+00 -1.41806980e-01 -1.34022653e+00 -1.44707648e+00]\n",
      " [-1.87002413e+00 -1.41806980e-01 -1.51073881e+00 -1.44707648e+00]\n",
      " [-5.25060772e-02  2.33157057e+00 -1.45390138e+00 -1.31544430e+00]\n",
      " [-1.73673948e-01  1.52772287e+00 -1.28338910e+00 -1.05217993e+00]\n",
      " [-5.37177559e-01  2.08423282e+00 -1.39706395e+00 -1.05217993e+00]\n",
      " [-9.00681170e-01  1.09488180e+00 -1.34022653e+00 -1.18381211e+00]\n",
      " [-1.73673948e-01  1.83689506e+00 -1.16971425e+00 -1.18381211e+00]\n",
      " [-9.00681170e-01  1.83689506e+00 -1.28338910e+00 -1.18381211e+00]\n",
      " [-5.37177559e-01  8.47544041e-01 -1.16971425e+00 -1.31544430e+00]\n",
      " [-9.00681170e-01  1.58955731e+00 -1.28338910e+00 -1.05217993e+00]\n",
      " [-1.50652052e+00  1.34221955e+00 -1.56757623e+00 -1.31544430e+00]\n",
      " [-9.00681170e-01  6.00206286e-01 -1.16971425e+00 -9.20547742e-01]\n",
      " [-1.26418478e+00  8.47544041e-01 -1.05603939e+00 -1.31544430e+00]\n",
      " [-1.02184904e+00 -1.41806980e-01 -1.22655167e+00 -1.31544430e+00]\n",
      " [-1.02184904e+00  8.47544041e-01 -1.22655167e+00 -1.05217993e+00]\n",
      " [-7.79513300e-01  1.09488180e+00 -1.28338910e+00 -1.31544430e+00]\n",
      " [-7.79513300e-01  8.47544041e-01 -1.34022653e+00 -1.31544430e+00]\n",
      " [-1.38535265e+00  3.52868531e-01 -1.22655167e+00 -1.31544430e+00]\n",
      " [-1.26418478e+00  1.05530776e-01 -1.22655167e+00 -1.31544430e+00]\n",
      " [-5.37177559e-01  8.47544041e-01 -1.28338910e+00 -1.05217993e+00]\n",
      " [-7.79513300e-01  1.52772287e+00 -1.28338910e+00 -1.44707648e+00]\n",
      " [-4.16009689e-01  1.52772287e+00 -1.34022653e+00 -1.31544430e+00]\n",
      " [-1.14301691e+00  1.05530776e-01 -1.28338910e+00 -1.31544430e+00]\n",
      " [-1.02184904e+00  3.52868531e-01 -1.45390138e+00 -1.31544430e+00]\n",
      " [-4.16009689e-01  1.09488180e+00 -1.39706395e+00 -1.31544430e+00]\n",
      " [-1.14301691e+00  1.34221955e+00 -1.34022653e+00 -1.44707648e+00]\n",
      " [-1.74885626e+00 -1.41806980e-01 -1.39706395e+00 -1.31544430e+00]\n",
      " [-9.00681170e-01  8.47544041e-01 -1.28338910e+00 -1.31544430e+00]\n",
      " [-1.02184904e+00  1.09488180e+00 -1.39706395e+00 -1.18381211e+00]\n",
      " [-1.62768839e+00 -1.87317127e+00 -1.39706395e+00 -1.18381211e+00]\n",
      " [-1.74885626e+00  3.52868531e-01 -1.39706395e+00 -1.31544430e+00]\n",
      " [-1.02184904e+00  1.09488180e+00 -1.22655167e+00 -7.88915558e-01]\n",
      " [-9.00681170e-01  1.83689506e+00 -1.05603939e+00 -1.05217993e+00]\n",
      " [-1.26418478e+00 -1.41806980e-01 -1.34022653e+00 -1.18381211e+00]\n",
      " [-9.00681170e-01  1.83689506e+00 -1.22655167e+00 -1.31544430e+00]\n",
      " [-1.50652052e+00  3.52868531e-01 -1.34022653e+00 -1.31544430e+00]\n",
      " [-6.58345429e-01  1.58955731e+00 -1.28338910e+00 -1.31544430e+00]\n",
      " [-1.02184904e+00  6.00206286e-01 -1.34022653e+00 -1.31544430e+00]\n",
      " [ 1.40150837e+00  3.52868531e-01  5.35408562e-01  2.64141916e-01]\n",
      " [ 6.74501145e-01  3.52868531e-01  4.21733708e-01  3.95774101e-01]\n",
      " [ 1.28034050e+00  1.05530776e-01  6.49083415e-01  3.95774101e-01]\n",
      " [-4.16009689e-01 -1.87317127e+00  1.37546573e-01  1.32509732e-01]\n",
      " [ 7.95669016e-01 -6.36482490e-01  4.78571135e-01  3.95774101e-01]\n",
      " [-1.73673948e-01 -6.36482490e-01  4.21733708e-01  1.32509732e-01]\n",
      " [ 5.53333275e-01  6.00206286e-01  5.35408562e-01  5.27406285e-01]\n",
      " [-1.14301691e+00 -1.62583351e+00 -2.60315415e-01 -2.62386821e-01]\n",
      " [ 9.16836886e-01 -3.89144735e-01  4.78571135e-01  1.32509732e-01]\n",
      " [-7.79513300e-01 -8.83820246e-01  8.07091462e-02  2.64141916e-01]\n",
      " [-1.02184904e+00  1.52772287e+00 -1.46640561e-01 -2.62386821e-01]\n",
      " [ 6.86617933e-02 -1.41806980e-01  2.51221427e-01  3.95774101e-01]\n",
      " [ 1.89829664e-01 -2.12050902e+00  1.37546573e-01 -2.62386821e-01]\n",
      " [ 3.10997534e-01 -3.89144735e-01  5.35408562e-01  2.64141916e-01]\n",
      " [-2.94841818e-01 -3.89144735e-01 -8.98031345e-02  1.32509732e-01]\n",
      " [ 1.03800476e+00  1.05530776e-01  3.64896281e-01  2.64141916e-01]\n",
      " [-2.94841818e-01 -1.41806980e-01  4.21733708e-01  3.95774101e-01]\n",
      " [-5.25060772e-02 -8.83820246e-01  1.94384000e-01 -2.62386821e-01]\n",
      " [ 4.32165405e-01 -2.12050902e+00  4.21733708e-01  3.95774101e-01]\n",
      " [-2.94841818e-01 -1.37849576e+00  8.07091462e-02 -1.30754636e-01]\n",
      " [ 6.86617933e-02  3.52868531e-01  5.92245988e-01  7.90670654e-01]\n",
      " [ 3.10997534e-01 -6.36482490e-01  1.37546573e-01  1.32509732e-01]\n",
      " [ 5.53333275e-01 -1.37849576e+00  6.49083415e-01  3.95774101e-01]\n",
      " [ 3.10997534e-01 -6.36482490e-01  5.35408562e-01  8.77547895e-04]\n",
      " [ 6.74501145e-01 -3.89144735e-01  3.08058854e-01  1.32509732e-01]\n",
      " [ 9.16836886e-01 -1.41806980e-01  3.64896281e-01  2.64141916e-01]\n",
      " [ 1.15917263e+00 -6.36482490e-01  5.92245988e-01  2.64141916e-01]\n",
      " [ 1.03800476e+00 -1.41806980e-01  7.05920842e-01  6.59038469e-01]\n",
      " [ 1.89829664e-01 -3.89144735e-01  4.21733708e-01  3.95774101e-01]\n",
      " [-1.73673948e-01 -1.13115800e+00 -1.46640561e-01 -2.62386821e-01]\n",
      " [-4.16009689e-01 -1.62583351e+00  2.38717193e-02 -1.30754636e-01]\n",
      " [-4.16009689e-01 -1.62583351e+00 -3.29657076e-02 -2.62386821e-01]\n",
      " [-5.25060772e-02 -8.83820246e-01  8.07091462e-02  8.77547895e-04]\n",
      " [ 1.89829664e-01 -8.83820246e-01  7.62758269e-01  5.27406285e-01]\n",
      " [-5.37177559e-01 -1.41806980e-01  4.21733708e-01  3.95774101e-01]\n",
      " [ 1.89829664e-01  8.47544041e-01  4.21733708e-01  5.27406285e-01]\n",
      " [ 1.03800476e+00  1.05530776e-01  5.35408562e-01  3.95774101e-01]\n",
      " [ 5.53333275e-01 -1.87317127e+00  3.64896281e-01  1.32509732e-01]\n",
      " [-2.94841818e-01 -1.41806980e-01  1.94384000e-01  1.32509732e-01]\n",
      " [-4.16009689e-01 -1.37849576e+00  1.37546573e-01  1.32509732e-01]\n",
      " [-4.16009689e-01 -1.13115800e+00  3.64896281e-01  8.77547895e-04]\n",
      " [ 3.10997534e-01 -1.41806980e-01  4.78571135e-01  2.64141916e-01]\n",
      " [-5.25060772e-02 -1.13115800e+00  1.37546573e-01  8.77547895e-04]\n",
      " [-1.02184904e+00 -1.87317127e+00 -2.60315415e-01 -2.62386821e-01]\n",
      " [-2.94841818e-01 -8.83820246e-01  2.51221427e-01  1.32509732e-01]\n",
      " [-1.73673948e-01 -1.41806980e-01  2.51221427e-01  8.77547895e-04]\n",
      " [-1.73673948e-01 -3.89144735e-01  2.51221427e-01  1.32509732e-01]\n",
      " [ 4.32165405e-01 -3.89144735e-01  3.08058854e-01  1.32509732e-01]\n",
      " [-9.00681170e-01 -1.37849576e+00 -4.30827696e-01 -1.30754636e-01]\n",
      " [-1.73673948e-01 -6.36482490e-01  1.94384000e-01  1.32509732e-01]\n",
      " [ 5.53333275e-01  6.00206286e-01  1.27429511e+00  1.71209594e+00]\n",
      " [-5.25060772e-02 -8.83820246e-01  7.62758269e-01  9.22302838e-01]\n",
      " [ 1.52267624e+00 -1.41806980e-01  1.21745768e+00  1.18556721e+00]\n",
      " [ 5.53333275e-01 -3.89144735e-01  1.04694540e+00  7.90670654e-01]\n",
      " [ 7.95669016e-01 -1.41806980e-01  1.16062026e+00  1.31719939e+00]\n",
      " [ 2.12851559e+00 -1.41806980e-01  1.61531967e+00  1.18556721e+00]\n",
      " [-1.14301691e+00 -1.37849576e+00  4.21733708e-01  6.59038469e-01]\n",
      " [ 1.76501198e+00 -3.89144735e-01  1.44480739e+00  7.90670654e-01]\n",
      " [ 1.03800476e+00 -1.37849576e+00  1.16062026e+00  7.90670654e-01]\n",
      " [ 1.64384411e+00  1.34221955e+00  1.33113254e+00  1.71209594e+00]\n",
      " [ 7.95669016e-01  3.52868531e-01  7.62758269e-01  1.05393502e+00]\n",
      " [ 6.74501145e-01 -8.83820246e-01  8.76433123e-01  9.22302838e-01]\n",
      " [ 1.15917263e+00 -1.41806980e-01  9.90107977e-01  1.18556721e+00]\n",
      " [-1.73673948e-01 -1.37849576e+00  7.05920842e-01  1.05393502e+00]\n",
      " [-5.25060772e-02 -6.36482490e-01  7.62758269e-01  1.58046376e+00]\n",
      " [ 6.74501145e-01  3.52868531e-01  8.76433123e-01  1.44883158e+00]\n",
      " [ 7.95669016e-01 -1.41806980e-01  9.90107977e-01  7.90670654e-01]\n",
      " [ 2.24968346e+00  1.83689506e+00  1.67215710e+00  1.31719939e+00]\n",
      " [ 2.24968346e+00 -1.13115800e+00  1.78583195e+00  1.44883158e+00]\n",
      " [ 1.89829664e-01 -2.12050902e+00  7.05920842e-01  3.95774101e-01]\n",
      " [ 1.28034050e+00  3.52868531e-01  1.10378283e+00  1.44883158e+00]\n",
      " [-2.94841818e-01 -6.36482490e-01  6.49083415e-01  1.05393502e+00]\n",
      " [ 2.24968346e+00 -6.36482490e-01  1.67215710e+00  1.05393502e+00]\n",
      " [ 5.53333275e-01 -8.83820246e-01  6.49083415e-01  7.90670654e-01]\n",
      " [ 1.03800476e+00  6.00206286e-01  1.10378283e+00  1.18556721e+00]\n",
      " [ 1.64384411e+00  3.52868531e-01  1.27429511e+00  7.90670654e-01]\n",
      " [ 4.32165405e-01 -6.36482490e-01  5.92245988e-01  7.90670654e-01]\n",
      " [ 3.10997534e-01 -1.41806980e-01  6.49083415e-01  7.90670654e-01]\n",
      " [ 6.74501145e-01 -6.36482490e-01  1.04694540e+00  1.18556721e+00]\n",
      " [ 1.64384411e+00 -1.41806980e-01  1.16062026e+00  5.27406285e-01]\n",
      " [ 1.88617985e+00 -6.36482490e-01  1.33113254e+00  9.22302838e-01]\n",
      " [ 2.49201920e+00  1.83689506e+00  1.50164482e+00  1.05393502e+00]\n",
      " [ 6.74501145e-01 -6.36482490e-01  1.04694540e+00  1.31719939e+00]\n",
      " [ 5.53333275e-01 -6.36482490e-01  7.62758269e-01  3.95774101e-01]\n",
      " [ 3.10997534e-01 -1.13115800e+00  1.04694540e+00  2.64141916e-01]\n",
      " [ 2.24968346e+00 -1.41806980e-01  1.33113254e+00  1.44883158e+00]\n",
      " [ 5.53333275e-01  8.47544041e-01  1.04694540e+00  1.58046376e+00]\n",
      " [ 6.74501145e-01  1.05530776e-01  9.90107977e-01  7.90670654e-01]\n",
      " [ 1.89829664e-01 -1.41806980e-01  5.92245988e-01  7.90670654e-01]\n",
      " [ 1.28034050e+00  1.05530776e-01  9.33270550e-01  1.18556721e+00]\n",
      " [ 1.03800476e+00  1.05530776e-01  1.04694540e+00  1.58046376e+00]\n",
      " [ 1.28034050e+00  1.05530776e-01  7.62758269e-01  1.44883158e+00]\n",
      " [-5.25060772e-02 -8.83820246e-01  7.62758269e-01  9.22302838e-01]\n",
      " [ 1.15917263e+00  3.52868531e-01  1.21745768e+00  1.44883158e+00]\n",
      " [ 1.03800476e+00  6.00206286e-01  1.10378283e+00  1.71209594e+00]\n",
      " [ 1.03800476e+00 -1.41806980e-01  8.19595696e-01  1.44883158e+00]\n",
      " [ 5.53333275e-01 -1.37849576e+00  7.05920842e-01  9.22302838e-01]\n",
      " [ 7.95669016e-01 -1.41806980e-01  8.19595696e-01  1.05393502e+00]\n",
      " [ 4.32165405e-01  8.47544041e-01  9.33270550e-01  1.44883158e+00]\n",
      " [ 6.86617933e-02 -1.41806980e-01  7.62758269e-01  7.90670654e-01]]\n"
     ]
    }
   ],
   "source": [
    "from sklearn.preprocessing import StandardScaler\n",
    "\n",
    "scaler = StandardScaler()\n",
    "\n",
    "X = scaler.fit_transform(X)\n",
    "\n",
    "print(X)\n",
    "\n",
    "\n"
   ]
  },
  {
   "cell_type": "code",
   "execution_count": 19,
   "metadata": {
    "executionInfo": {
     "elapsed": 18,
     "status": "ok",
     "timestamp": 1743084044521,
     "user": {
      "displayName": "Bruno Dezorzi",
      "userId": "10811174155424200293"
     },
     "user_tz": 180
    },
    "id": "YciGGFQe3Wug"
   },
   "outputs": [],
   "source": [
    "from sklearn.model_selection import train_test_split\n",
    "\n",
    "\n",
    "\n",
    "X_train, X_test, y_train, y_test = train_test_split(X, y, test_size=0.15, random_state=42)\n",
    "X_train, X_val, y_train, y_val = train_test_split(X_train, y_train, test_size=0.15, random_state=42)\n"
   ]
  },
  {
   "cell_type": "markdown",
   "metadata": {
    "id": "alNm6pJN6_lD"
   },
   "source": [
    "# DummyClassifier\n",
    "\n"
   ]
  },
  {
   "cell_type": "code",
   "execution_count": 20,
   "metadata": {
    "colab": {
     "base_uri": "https://localhost:8080/"
    },
    "executionInfo": {
     "elapsed": 6,
     "status": "ok",
     "timestamp": 1743084070940,
     "user": {
      "displayName": "Bruno Dezorzi",
      "userId": "10811174155424200293"
     },
     "user_tz": 180
    },
    "id": "uEMGwOf059Pu",
    "outputId": "32c2dfe3-6d98-4dca-ab30-ee69819acbb3"
   },
   "outputs": [
    {
     "name": "stdout",
     "output_type": "stream",
     "text": [
      "Acurácia no conjunto de validação: 0.35\n",
      "Acurácia no conjunto de teste: 0.26\n"
     ]
    }
   ],
   "source": [
    "from sklearn.dummy import DummyClassifier\n",
    "\n",
    "dummy_clf = DummyClassifier(strategy=\"most_frequent\", random_state=42)\n",
    "\n",
    "dummy_clf.fit(X_train, y_train)\n",
    "\n",
    "y_val_pred = dummy_clf.predict(X_val)\n",
    "\n",
    "val_accuracy = accuracy_score(y_val, y_val_pred)\n",
    "print(f'Acurácia no conjunto de validação: {val_accuracy:.2f}')\n",
    "\n",
    "y_test_pred = dummy_clf.predict(X_test)\n",
    "\n",
    "test_accuracy = accuracy_score(y_test, y_test_pred)\n",
    "print(f'Acurácia no conjunto de teste: {test_accuracy:.2f}')"
   ]
  },
  {
   "cell_type": "markdown",
   "metadata": {
    "id": "PvPKdgA8-_X8"
   },
   "source": [
    "# Support Vector Machine"
   ]
  },
  {
   "cell_type": "code",
   "execution_count": 21,
   "metadata": {
    "colab": {
     "base_uri": "https://localhost:8080/"
    },
    "executionInfo": {
     "elapsed": 44,
     "status": "ok",
     "timestamp": 1743085347857,
     "user": {
      "displayName": "Bruno Dezorzi",
      "userId": "10811174155424200293"
     },
     "user_tz": 180
    },
    "id": "HOrDInKX-v2X",
    "outputId": "a84a9ced-4dff-4c6c-c21c-e309a646108c"
   },
   "outputs": [
    {
     "name": "stdout",
     "output_type": "stream",
     "text": [
      "Acurácia no conjunto de validação para kernel linear: 0.95\n",
      "Acurácia no conjunto de teste para kernel linear: 0.96\n",
      "Acurácia no conjunto de validação para kernel poly: 0.95\n",
      "Acurácia no conjunto de teste para kernel poly: 0.91\n",
      "Acurácia no conjunto de validação para kernel rbf: 0.90\n",
      "Acurácia no conjunto de teste para kernel rbf: 1.00\n",
      "Acurácia no conjunto de validação para kernel sigmoid: 0.80\n",
      "Acurácia no conjunto de teste para kernel sigmoid: 0.91\n"
     ]
    }
   ],
   "source": [
    "from sklearn.svm import SVC\n",
    "\n",
    "kernels = ['linear','poly','rbf','sigmoid'] #'precomputed' não foi utilizado pois precisa de uma matriz quadrada\n",
    "\n",
    "\n",
    "for i in kernels:\n",
    "    smv = SVC(kernel=i)\n",
    "\n",
    "    smv.fit(X_train, y_train)\n",
    "\n",
    "    y_val_pred = smv.predict(X_val)\n",
    "    val_accuracy = accuracy_score(y_val, y_val_pred)\n",
    "    print(f'Acurácia no conjunto de validação para kernel {i}: {val_accuracy:.2f}')\n",
    "\n",
    "    y_test_pred = smv.predict(X_test)\n",
    "    test_accuracy = accuracy_score(y_test, y_test_pred)\n",
    "    print(f'Acurácia no conjunto de teste para kernel {i}: {test_accuracy:.2f}')\n",
    "\n"
   ]
  },
  {
   "cell_type": "markdown",
   "metadata": {
    "id": "kPU6hxRj_D6_"
   },
   "source": [
    "# Naive Bayes"
   ]
  },
  {
   "cell_type": "code",
   "execution_count": 22,
   "metadata": {
    "colab": {
     "base_uri": "https://localhost:8080/"
    },
    "executionInfo": {
     "elapsed": 32,
     "status": "ok",
     "timestamp": 1743085411183,
     "user": {
      "displayName": "Bruno Dezorzi",
      "userId": "10811174155424200293"
     },
     "user_tz": 180
    },
    "id": "obXPoVU---qz",
    "outputId": "223cf6af-46b2-4830-e81a-acbf791b5dd1"
   },
   "outputs": [
    {
     "name": "stdout",
     "output_type": "stream",
     "text": [
      "Acurácia no conjunto de validação para o método GaussianNB: 1.00\n",
      "Acurácia no conjunto de teste para o método GaussianNB: 1.00\n",
      "Acurácia no conjunto de validação para o método BernoulliNB: 0.75\n",
      "Acurácia no conjunto de teste para o método BernoulliNB: 0.78\n"
     ]
    }
   ],
   "source": [
    "from sklearn.naive_bayes import GaussianNB,BernoulliNB,CategoricalNB,ComplementNB,MultinomialNB\n",
    "\n",
    "methods = [GaussianNB,BernoulliNB] #MultinomialNB, CategoricalNB e ComplementNB não aceita valores negativos\n",
    "\n",
    "for i in methods:\n",
    "\n",
    "    naive = i()\n",
    "\n",
    "    naive.fit(X_train, y_train)\n",
    "\n",
    "    y_val_pred = naive.predict(X_val)\n",
    "    val_accuracy = accuracy_score(y_val, y_val_pred)\n",
    "    print(f'Acurácia no conjunto de validação para o método {i.__name__}: {val_accuracy:.2f}')\n",
    "\n",
    "    y_test_pred = naive.predict(X_test)\n",
    "    test_accuracy = accuracy_score(y_test, y_test_pred)\n",
    "    print(f'Acurácia no conjunto de teste para o método {i.__name__}: {test_accuracy:.2f}')\n"
   ]
  }
 ],
 "metadata": {
  "colab": {
   "authorship_tag": "ABX9TyPF4MAWBv+WBEeI6a0obo67",
   "provenance": []
  },
  "kernelspec": {
   "display_name": "Python 3",
   "name": "python3"
  },
  "language_info": {
   "codemirror_mode": {
    "name": "ipython",
    "version": 3
   },
   "file_extension": ".py",
   "mimetype": "text/x-python",
   "name": "python",
   "nbconvert_exporter": "python",
   "pygments_lexer": "ipython3",
   "version": "3.13.1"
  }
 },
 "nbformat": 4,
 "nbformat_minor": 0
}
