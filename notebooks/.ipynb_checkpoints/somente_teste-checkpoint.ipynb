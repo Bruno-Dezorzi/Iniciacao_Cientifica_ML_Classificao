{
 "cells": [
  {
   "cell_type": "markdown",
   "metadata": {},
   "source": [
    "# Importação\n"
   ]
  },
  {
   "cell_type": "code",
   "execution_count": null,
   "metadata": {},
   "outputs": [],
   "source": [
    "import pandas as pd\n",
    "from sklearn.datasets import load_iris\n",
    "import matplotlib.pyplot as plt\n",
    "import seaborn as sns\n",
    "import numpy as np"
   ]
  },
  {
   "cell_type": "markdown",
   "metadata": {},
   "source": [
    "# Carregar dados\n"
   ]
  },
  {
   "cell_type": "code",
   "execution_count": null,
   "metadata": {},
   "outputs": [],
   "source": [
    "df = pd.concat([load_iris(return_X_y= True, as_frame= True)[0],load_iris(return_X_y= True, as_frame= True)[1]], axis= 1)\n",
    "df.head()"
   ]
  },
  {
   "cell_type": "markdown",
   "metadata": {},
   "source": [
    "# Análise Exploratória\n"
   ]
  },
  {
   "cell_type": "code",
   "execution_count": null,
   "metadata": {},
   "outputs": [],
   "source": [
    "print(f\"{df.dtypes}\\n\")\n",
    "print(df.info())\n",
    "display(df.describe())"
   ]
  },
  {
   "cell_type": "code",
   "execution_count": null,
   "metadata": {},
   "outputs": [],
   "source": [
    "species_mapping = {0: 'setosa', 1: 'versicolor', 2: 'virginica'}\n",
    "\n",
    "df['species'] = df['target'].map(species_mapping)\n",
    "df = df.drop('target', axis = 1)\n",
    "df.head()"
   ]
  },
  {
   "cell_type": "code",
   "execution_count": null,
   "metadata": {},
   "outputs": [],
   "source": [
    "df_numeric = df.drop('species', axis=1)\n",
    "corr = df_numeric.corr()\n",
    "\n",
    "\n",
    "plt.figure(figsize=(10, 6))\n",
    "sns.heatmap(corr, annot=True, cmap='coolwarm', fmt=\".2f\", cbar=True)\n",
    "\n",
    "\n",
    "plt.tight_layout()\n",
    "plt.show()\n"
   ]
  },
  {
   "cell_type": "code",
   "execution_count": null,
   "metadata": {},
   "outputs": [],
   "source": [
    "sns.pairplot(df, hue=\"species\")  # Substitua \"target\" pela variável alvo\n",
    "plt.show()"
   ]
  },
  {
   "cell_type": "code",
   "execution_count": null,
   "metadata": {},
   "outputs": [],
   "source": [
    "def boxplot(df: pd.DataFrame):\n",
    "    df_numeric = df.drop('species', axis=1)\n",
    "\n",
    "    plt.figure(figsize = (20,10))\n",
    "\n",
    "    sns.boxplot(data=df_numeric)\n",
    "    plt.show()\n",
    "\n",
    "def histogram(df: pd.DataFrame):\n",
    "    columns_numerics = df.drop('species', axis=1).columns.tolist()\n",
    "    \n",
    "    plt.figure(figsize= (20,10))\n",
    "    for i in range(len(columns_numerics)):\n",
    "        plt.subplot(4,4,i+1)\n",
    "        sns.histplot(data= df, x= columns_numerics[i], kde= True)\n",
    "        #plt.title(columns_numerics[i])\n",
    "\n",
    "    plt.tight_layout()\n",
    "    plt.show()\n",
    "    \n",
    "boxplot(df)\n",
    "histogram(df)"
   ]
  },
  {
   "cell_type": "code",
   "execution_count": null,
   "metadata": {},
   "outputs": [],
   "source": [
    "def detectar_outliers(df: pd.DataFrame, colunas: list, info: bool = False):\n",
    "    all_outliers = {}\n",
    "    \n",
    "    for i in colunas:\n",
    "        Q1 = df[i].quantile(0.25)\n",
    "        Q3 = df[i].quantile(0.75)\n",
    "        IQR = Q3 - Q1\n",
    "\n",
    "        limite_inferior = Q1 - 1.5 * IQR\n",
    "        limite_superior = Q3 + 1.5 * IQR\n",
    "\n",
    "        # Identificando os outliers\n",
    "        outliers = df[(df[i] < limite_inferior) | (df[i] > limite_superior)]\n",
    "\n",
    "        all_outliers[i] = outliers\n",
    "        \n",
    "        if info:\n",
    "            print(f\"Sobre a coluna {i}: O Limite inferior é {limite_inferior} e o superior é {limite_superior}\")\n",
    "            print(f\"{len(outliers)} outliers na coluna {i}\\n\")\n",
    "            \n",
    "    return all_outliers\n",
    "\n",
    "def remover_outliers(df: pd.DataFrame, colunas: list):\n",
    "    for i in colunas:\n",
    "        Q1 = df[i].quantile(0.25)\n",
    "        Q3 = df[i].quantile(0.75)\n",
    "        IQR = Q3 - Q1\n",
    "\n",
    "        limite_inferior = Q1 - 1.5 * IQR\n",
    "        limite_superior = Q3 + 1.5 * IQR\n",
    "        \n",
    "        # Detecção de outliers\n",
    "        outliers = detectar_outliers(df, [i], info=False)[i]\n",
    "        \n",
    "        # Calculando a média dos valores sem os outliers\n",
    "        media_no_outliers = df[(df[i] >= limite_inferior) & (df[i] <= limite_superior)][i].mean()\n",
    "        \n",
    "        # Substituindo os outliers pela média\n",
    "        df[i] = df[i].apply(\n",
    "            lambda x: media_no_outliers if (x < limite_inferior or x > limite_superior) else x\n",
    "        )\n",
    "    return df"
   ]
  },
  {
   "cell_type": "code",
   "execution_count": null,
   "metadata": {},
   "outputs": [],
   "source": [
    "df = remover_outliers(df= df, colunas=df.drop('species', axis=1).columns.tolist())\n",
    "boxplot(df)\n",
    "histogram(df)"
   ]
  },
  {
   "cell_type": "markdown",
   "metadata": {},
   "source": [
    "# Feature Engineering"
   ]
  },
  {
   "cell_type": "code",
   "execution_count": null,
   "metadata": {},
   "outputs": [],
   "source": [
    "df[\"petal_area\"] = df[\"petal length (cm)\"] * df[\"petal width (cm)\"]\n",
    "df[\"sepal_area\"] = df[\"sepal length (cm)\"] * df[\"sepal width (cm)\"]\n",
    "df[\"petal_prop\"] = df[\"petal length (cm)\"] / df[\"petal width (cm)\"]\n",
    "df[\"sepal_prop\"] = df[\"sepal length (cm)\"] / df[\"sepal width (cm)\"]"
   ]
  },
  {
   "cell_type": "code",
   "execution_count": null,
   "metadata": {},
   "outputs": [],
   "source": [
    "df.describe()"
   ]
  },
  {
   "cell_type": "code",
   "execution_count": null,
   "metadata": {},
   "outputs": [],
   "source": [
    "boxplot(df)\n",
    "histogram(df)"
   ]
  },
  {
   "cell_type": "code",
   "execution_count": null,
   "metadata": {},
   "outputs": [],
   "source": [
    "display(df.describe())\n",
    "for i in range(5):\n",
    "    df = remover_outliers(df= df, colunas=df.drop('species', axis=1).columns.tolist())\n",
    "    i += 1\n",
    "boxplot(df)\n",
    "histogram(df)"
   ]
  },
  {
   "cell_type": "code",
   "execution_count": null,
   "metadata": {},
   "outputs": [],
   "source": [
    "plt.figure(figsize= (15,7))\n",
    "sns.scatterplot(data=df.drop('species', axis=1))\n",
    "\n",
    "plt.tight_layout()\n",
    "plt.show()"
   ]
  },
  {
   "cell_type": "code",
   "execution_count": null,
   "metadata": {},
   "outputs": [],
   "source": [
    "plt.figure(figsize= (15,7))\n",
    "sns.scatterplot(data=df.drop('species', axis=1))\n",
    "\n",
    "plt.tight_layout()\n",
    "plt.show()"
   ]
  },
  {
   "cell_type": "code",
   "execution_count": null,
   "metadata": {},
   "outputs": [],
   "source": [
    "from sklearn.preprocessing import StandardScaler\n",
    "\n",
    "scaler = StandardScaler()\n",
    "\n",
    "X = scaler.fit_transform(df.drop('species', axis=1))\n",
    "y = df['species']\n",
    "\n"
   ]
  },
  {
   "cell_type": "code",
   "execution_count": null,
   "metadata": {},
   "outputs": [],
   "source": [
    "plt.figure(figsize= (15,7))\n",
    "sns.scatterplot(data=X)\n",
    "\n",
    "plt.tight_layout()\n",
    "plt.show()"
   ]
  },
  {
   "cell_type": "code",
   "execution_count": null,
   "metadata": {},
   "outputs": [],
   "source": [
    "plt.figure(figsize=(12, 8))\n",
    "\n",
    "for i in range(X.shape[1]):\n",
    "    plt.subplot(2, 4, i+1)\n",
    "    sns.histplot(X[:, i], bins=10, edgecolor='black', kde = True)\n",
    "    plt.title(f'Histograma da Coluna {i+1}')\n",
    "\n",
    "plt.tight_layout()\n",
    "plt.show()"
   ]
  },
  {
   "cell_type": "code",
   "execution_count": null,
   "metadata": {},
   "outputs": [],
   "source": [
    "from sklearn.model_selection import train_test_split\n",
    "\n",
    "seed = 42\n",
    "\n",
    "\n",
    "X_train, X_test, y_train, y_test = train_test_split(X, y, test_size=0.25, random_state=seed)\n",
    "\n"
   ]
  },
  {
   "cell_type": "code",
   "execution_count": null,
   "metadata": {},
   "outputs": [],
   "source": [
    "from sklearn.dummy import DummyClassifier\n",
    "from sklearn.metrics import accuracy_score\n",
    "\n",
    "\n",
    "\n",
    "dummy_clf = DummyClassifier(strategy=\"most_frequent\", random_state=seed)\n",
    "\n",
    "dummy_clf.fit(X_train, y_train)\n",
    "\n",
    "\n",
    "y_test_pred = dummy_clf.predict(X_test)\n",
    "\n",
    "test_accuracy = accuracy_score(y_test, y_test_pred)\n",
    "print(f'Acurácia no conjunto de teste: {test_accuracy:.2f}')"
   ]
  },
  {
   "cell_type": "markdown",
   "metadata": {},
   "source": [
    "# Teste inicial para Naive Bayes e Support Vector Machine"
   ]
  },
  {
   "cell_type": "code",
   "execution_count": null,
   "metadata": {},
   "outputs": [],
   "source": [
    "from sklearn.svm import SVC\n",
    "from sklearn.model_selection import cross_val_score\n",
    "import numpy as np\n",
    "\n",
    "kernels = ['linear', 'poly', 'rbf', 'sigmoid'] #'precomputed' não foi utilizado pois precisa de uma matriz quadrada\n",
    "\n",
    "for i in kernels:\n",
    "    svm = SVC(kernel=i, random_state= 42)\n",
    "    \n",
    "    # Cross-validation com 5 folds\n",
    "    scores = cross_val_score(svm, X_train, y_train, cv=5)\n",
    "    \n",
    "    print(f'Kernel: {i}')\n",
    "    print(f'Acurácia média no Cross-Validation: {np.mean(scores):.2f} (+/- {np.std(scores):.2f})\\n')\n",
    "\n",
    "# Após escolher o melhor kernel, podemos treinar e testar no conjunto final\n",
    "best_kernel = 'linear'  # Substitua pelo melhor kernel encontrado\n",
    "svm_best = SVC(kernel=best_kernel)\n",
    "svm_best.fit(X_train, y_train)\n",
    "\n",
    "\n",
    "\n",
    "\n",
    "y_test_pred = svm_best.predict(X_test)\n",
    "test_accuracy = accuracy_score(y_test, y_test_pred)\n",
    "print(f'Acurácia final no conjunto de teste para kernel {best_kernel}: {test_accuracy:.2f}')\n"
   ]
  },
  {
   "cell_type": "code",
   "execution_count": null,
   "metadata": {},
   "outputs": [],
   "source": [
    "from sklearn.naive_bayes import GaussianNB, BernoulliNB\n",
    "\n",
    "\n",
    "methods = [GaussianNB, BernoulliNB]  # Apenas métodos que aceitam valores negativos   / MultinomialNB, CategoricalNB e ComplementNB não aceita valores negativos\n",
    "\n",
    "for method in methods:\n",
    "    naive = method()\n",
    "\n",
    "    # Cross-validation com 5 folds\n",
    "    scores = cross_val_score(naive, X_train, y_train, cv=5)\n",
    "\n",
    "    print(f'Método: {method.__name__}')\n",
    "    print(f'Acurácia média no Cross-Validation: {np.mean(scores):.2f} (+/- {np.std(scores):.2f})\\n')\n",
    "\n",
    "\n",
    "best_method = GaussianNB  # Substitua pelo melhor encontrado\n",
    "naive_best = best_method()\n",
    "naive_best.fit(X_train, y_train)\n",
    "\n",
    "\n",
    "\n",
    "\n",
    "\n",
    "y_test_pred = naive_best.predict(X_test)\n",
    "test_accuracy = accuracy_score(y_test, y_test_pred)\n",
    "print(f'Acurácia final no conjunto de teste para {best_method.__name__}: {test_accuracy:.2f}')\n",
    "\n",
    "best_method = BernoulliNB  # Substitua pelo melhor encontrado\n",
    "naive_best = best_method()\n",
    "naive_best.fit(X_train, y_train)\n",
    "\n",
    "\n",
    "\n",
    "\n",
    "\n",
    "y_test_pred = naive_best.predict(X_test)\n",
    "test_accuracy = accuracy_score(y_test, y_test_pred)\n",
    "print(f'Acurácia final no conjunto de teste para {best_method.__name__}: {test_accuracy:.2f}')\n"
   ]
  },
  {
   "cell_type": "markdown",
   "metadata": {},
   "source": [
    "# Definitivos"
   ]
  },
  {
   "cell_type": "markdown",
   "metadata": {},
   "source": [
    "## SVC"
   ]
  },
  {
   "cell_type": "code",
   "execution_count": null,
   "metadata": {},
   "outputs": [],
   "source": [
    "svm = SVC(kernel='linear', C= 0.1, random_state= seed, class_weight='balanced')\n",
    "svm.fit(X_train, y_train)\n",
    "\n",
    "\n",
    "\n",
    "y_test_pred = svm.predict(X_test)\n",
    "test_accuracy = accuracy_score(y_test, y_test_pred)\n",
    "print(f'Acurácia final no conjunto de teste para kernel {best_kernel}: {test_accuracy:.6f}')"
   ]
  },
  {
   "cell_type": "markdown",
   "metadata": {},
   "source": [
    "## GaussianNB\n"
   ]
  },
  {
   "cell_type": "code",
   "execution_count": null,
   "metadata": {},
   "outputs": [],
   "source": [
    "\n",
    "gaussian = GaussianNB(var_smoothing= 1e-1)  \n",
    "gaussian.fit(X_train, y_train)\n",
    "\n",
    "\n",
    "\n",
    "\n",
    "\n",
    "y_test_pred = gaussian.predict(X_test)\n",
    "test_accuracy = accuracy_score(y_test, y_test_pred)\n",
    "print(f'Acurácia final no conjunto de teste para GaussianNB: {test_accuracy:.6f}')"
   ]
  }
 ],
 "metadata": {
  "kernelspec": {
   "display_name": "venv",
   "language": "python",
   "name": "python3"
  },
  "language_info": {
   "codemirror_mode": {
    "name": "ipython",
    "version": 3
   },
   "file_extension": ".py",
   "mimetype": "text/x-python",
   "name": "python",
   "nbconvert_exporter": "python",
   "pygments_lexer": "ipython3",
   "version": "3.11.7"
  }
 },
 "nbformat": 4,
 "nbformat_minor": 2
}
